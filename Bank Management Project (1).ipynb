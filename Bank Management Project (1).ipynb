{
 "cells": [
  {
   "cell_type": "markdown",
   "id": "94f0e286",
   "metadata": {},
   "source": [
    "## Import mysql connector"
   ]
  },
  {
   "cell_type": "code",
   "execution_count": 1,
   "id": "ced202cd",
   "metadata": {},
   "outputs": [],
   "source": [
    "import mysql.connector"
   ]
  },
  {
   "cell_type": "markdown",
   "id": "a88c0012",
   "metadata": {},
   "source": [
    "## Create Database bankdb"
   ]
  },
  {
   "cell_type": "code",
   "execution_count": 2,
   "id": "d4be9faa",
   "metadata": {},
   "outputs": [
    {
     "name": "stdout",
     "output_type": "stream",
     "text": [
      "Error:Except\n"
     ]
    }
   ],
   "source": [
    "try:\n",
    "    mydb=mysql.connector.connect(\n",
    "    user='MYSQL_USER',\n",
    "    passwd='MYSQL_PASSWORD',\n",
    "    host='MYSQL_HOST',\n",
    "    auth_plugin='mysql_native_password',\n",
    "    database='MYSQL_DATABASE'\n",
    "    )\n",
    "    mycursor=mydb.cursor(buffered=True)\n",
    "except mysql.connector.Error as err:\n",
    "    print(\"Error:Except\")\n",
    "    exit()"
   ]
  },
  {
   "cell_type": "code",
   "execution_count": 3,
   "id": "da772406",
   "metadata": {},
   "outputs": [],
   "source": [
    "def Menu(): #Function to display the menu\n",
    "    print(\"*\" * 140)\n",
    "    print(\"MAIN MENU\".center(140))\n",
    "    print(\"1. Insert Record/Records\".center(140))\n",
    "    print(\"2. Display Records as per Account Number\".center(140))\n",
    "    print(\" a. Sorted as per Account Number\".center(140))\n",
    "    print(\" b. Sorted as per Customer Name\".center(140))\n",
    "    print(\" c. Sorted as per Customer Balance\".center(140))\n",
    "    print(\"3. Search Record Details as per the accountnumber\".center(140))\n",
    "    print(\"4. Update Record\".center(140))\n",
    "    print(\"5. Delete Record\".center(140))\n",
    "    print(\"6. Transactions Debit/Withdraw from the account\".center(140))\n",
    "    print(\" a. Debit/Withdraw from the account\".center(140))\n",
    "    print(\" b. Credit into the account\".center(140))\n",
    "    print(\"7. Exit\".center(140))\n",
    "    print(\"*\" * 140)"
   ]
  },
  {
   "cell_type": "code",
   "execution_count": 4,
   "id": "0a18b909",
   "metadata": {},
   "outputs": [
    {
     "name": "stdout",
     "output_type": "stream",
     "text": [
      "********************************************************************************************************************************************\n",
      "                                                                 MAIN MENU                                                                  \n",
      "                                                          1. Insert Record/Records                                                          \n",
      "                                                  2. Display Records as per Account Number                                                  \n",
      "                                                       a. Sorted as per Account Number                                                      \n",
      "                                                       b. Sorted as per Customer Name                                                       \n",
      "                                                      c. Sorted as per Customer Balance                                                     \n",
      "                                             3. Search Record Details as per the accountnumber                                              \n",
      "                                                              4. Update Record                                                              \n",
      "                                                              5. Delete Record                                                              \n",
      "                                              6. Transactions Debit/Withdraw from the account                                               \n",
      "                                                     a. Debit/Withdraw from the account                                                     \n",
      "                                                         b. Credit into the account                                                         \n",
      "                                                                  7. Exit                                                                   \n",
      "********************************************************************************************************************************************\n"
     ]
    }
   ],
   "source": [
    "Menu()"
   ]
  },
  {
   "cell_type": "code",
   "execution_count": 5,
   "id": "965c5f2c",
   "metadata": {},
   "outputs": [],
   "source": [
    "def MenuSort():\n",
    "    print(\" a. Sorted as per Account Number\".center(140))\n",
    "    print(\" b. Sorted as per Customer Name\".center(140))\n",
    "    print(\" c. Sorted as per Customer Balance\".center(140))\n",
    "    print(\" d. Back\".center(140))"
   ]
  },
  {
   "cell_type": "code",
   "execution_count": 6,
   "id": "2112c987",
   "metadata": {},
   "outputs": [
    {
     "name": "stdout",
     "output_type": "stream",
     "text": [
      "                                                       a. Sorted as per Account Number                                                      \n",
      "                                                       b. Sorted as per Customer Name                                                       \n",
      "                                                      c. Sorted as per Customer Balance                                                     \n",
      "                                                                   d. Back                                                                  \n"
     ]
    }
   ],
   "source": [
    "MenuSort()"
   ]
  },
  {
   "cell_type": "code",
   "execution_count": 7,
   "id": "9a3dd731",
   "metadata": {},
   "outputs": [],
   "source": [
    "def MenuTransaction():\n",
    "    print(\" a. Debit/Withdraw from the account\".center(140))\n",
    "    print(\" b. Credit into the account\".center(140))\n",
    "    print(\" c. Back\".center(140))"
   ]
  },
  {
   "cell_type": "code",
   "execution_count": 8,
   "id": "522725a6",
   "metadata": {},
   "outputs": [
    {
     "name": "stdout",
     "output_type": "stream",
     "text": [
      "                                                     a. Debit/Withdraw from the account                                                     \n",
      "                                                         b. Credit into the account                                                         \n",
      "                                                                   c. Back                                                                  \n"
     ]
    }
   ],
   "source": [
    "MenuTransaction()"
   ]
  },
  {
   "cell_type": "code",
   "execution_count": 9,
   "id": "93446ad6",
   "metadata": {},
   "outputs": [],
   "source": [
    "def Create():\n",
    "    try:\n",
    "        mycursor.execute('create table bank(ACCNO varchar(10),NAME varchar(20),MOBILE varchar(10),EMAIL varchar(20),ADDRESS varchar(20),CITY varchar(10),COUNTRY varchar(20),BALANCE integer(15))')              \n",
    "        print(\"Table Created\")\n",
    "        Insert()\n",
    "    except mysql.connector.Error as err:\n",
    "        print(\"Table Exist\")\n",
    "        Insert()"
   ]
  },
  {
   "cell_type": "code",
   "execution_count": 10,
   "id": "f1fb3e71",
   "metadata": {},
   "outputs": [],
   "source": [
    "def Insert():\n",
    "    while True: #Loop for accepting records\n",
    "        Acc=input(\"Enter account no: \")\n",
    "        Name=input(\"Enter Name: \").upper()\n",
    "        Mob=input(\"Enter Mobile: \")\n",
    "        email=input(\"Enter Email: \").lower()\n",
    "        Add=input(\"Enter Address: \").upper()\n",
    "        City=input(\"Enter City: \").upper()\n",
    "        Country=input(\"Enter Country:\").upper()\n",
    "        Bal=float(input(\"Enter Balance: \"))\n",
    "        Rec=[Acc,Name.upper(),Mob,email.upper(),Add.upper(),City.upper(),Country.upper(),Bal]\n",
    "        Cmd=\"insert into BANK values(%s,%s,%s,%s,%s,%s,%s,%s)\"\n",
    "        mycursor.execute(Cmd,Rec)\n",
    "        mydb.commit()\n",
    "        ch=input(\"Do you want to enter more records(Yes/No):\").lower()\n",
    "        ch=ch.lower()\n",
    "        if ch=='no':\n",
    "            break"
   ]
  },
  {
   "cell_type": "code",
   "execution_count": 11,
   "id": "8f9c7d2a",
   "metadata": {},
   "outputs": [],
   "source": [
    "def DispSortAcc(): #Function to Display records as per ascending order of Account Number\n",
    "    try:\n",
    "        cmd=\"select * from BANK order by ACCNO\"\n",
    "        mycursor.execute(cmd)\n",
    "        S=mycursor.fetchall()\n",
    "        F=\"%15s %15s %15s %15s %15s %15s %15s %15s\"\n",
    "        print(F % (\"ACCNO\",\"NAME\",\"MOBILE\",\"EMAIL ADDRESS\",\"COMPLETE ADDRESS\",\"CITY\",\"COUNTRY\",\"BALANCE\"))\n",
    "        print(\"=\"*125)\n",
    "        for i in S:\n",
    "            for j in i:\n",
    "                print(\"%14s\" % j, end=' ')\n",
    "            print()\n",
    "            print(\"=\"*125)\n",
    "    except mysql.connector.Error as err:\n",
    "        print(\"Table doesn't exist\")"
   ]
  },
  {
   "cell_type": "code",
   "execution_count": 12,
   "id": "ac5b1e33",
   "metadata": {},
   "outputs": [],
   "source": [
    "def DispSortName(): #Function to Display records as per ascending order of Name\n",
    "    try:\n",
    "        cmd=\"select * from BANK order by NAME\"\n",
    "        mycursor.execute(cmd)\n",
    "        S=mycursor.fetchall()\n",
    "        F=\"%15s %15s %15s %15s %15s %15s %15s %15s\"\n",
    "        print(F % (\"ACCNO\",\"NAME\",\"MOBILE\",\"EMAIL ADDRESS\",\"COMPLETE ADDRESS\",\"CITY\",\"COUNTRY\",\"BALANCE\"))\n",
    "        print(\"=\"*125)\n",
    "        for i in S:\n",
    "            for j in i:\n",
    "                print(\"%14s\" % j, end=' ')\n",
    "            print()\n",
    "            print(\"=\"*125)\n",
    "    except mysql.connector.Error as err:\n",
    "        print(\"Table doesn't exist\")"
   ]
  },
  {
   "cell_type": "code",
   "execution_count": 13,
   "id": "bd806540",
   "metadata": {},
   "outputs": [],
   "source": [
    "def DispSortBal(): #Function to Display records as per ascending order of Balance\n",
    "    try:\n",
    "        cmd=\"select * from BANK order by BALANCE\"\n",
    "        mycursor.execute(cmd)\n",
    "        S=mycursor.fetchall()\n",
    "        F=\"%15s %15s %15s %15s %15s %15s %15s %15s\"\n",
    "        print(F % (\"ACCNO\",\"NAME\",\"MOBILE\",\"EMAIL ADDRESS\",\"COMPLETE ADDRESS\",\"CITY\",\"COUNTRY\",\"BALANCE\"))\n",
    "        print(\"=\"*125)\n",
    "        for i in S:\n",
    "            for j in i:\n",
    "                print(\"%14s\" % j, end=' ')\n",
    "            print()\n",
    "            print(\"=\"*125)\n",
    "    except mysql.connector.Error as err:\n",
    "        print(\"Table doesn't exist\")"
   ]
  },
  {
   "cell_type": "code",
   "execution_count": 14,
   "id": "d9631547",
   "metadata": {},
   "outputs": [],
   "source": [
    "def DispSearchAcc(): #Function to Search for the Record from the File with respect to the account number\n",
    "    try:\n",
    "        cmd=\"select * from BANK\"\n",
    "        mycursor.execute(cmd)\n",
    "        S=mycursor.fetchall()\n",
    "        ch=input(\"Enter the accountno to be searched\")\n",
    "        for i in S:\n",
    "            if i[0]==ch:\n",
    "                print(\"=\"*125)\n",
    "                F=\"%15s %15s %15s %15s %15s %15s %15s %15s\"\n",
    "                print(F % (\"ACCNO\",\"NAME\",\"MOBILE\",\"EMAIL ADDRESS\",\"COMPLETE ADDRESS\",\"CITY\",\"COUNTRY\",\"BALANCE\"))\n",
    "                print(\"=\"*125)\n",
    "                for j in i:\n",
    "                    print('%14s' % j,end=' ')\n",
    "                print()\n",
    "                break\n",
    "        else:\n",
    "            print(\"Record Not found\")\n",
    "    except mysql.connector.Error as err:\n",
    "        print(\"Table doesn't exist\")"
   ]
  },
  {
   "cell_type": "code",
   "execution_count": 15,
   "id": "57e36be1",
   "metadata": {},
   "outputs": [],
   "source": [
    "def Update(): #Function to change the details of a customer\n",
    "    try:\n",
    "        cmd=\"select * from BANK\"\n",
    "        mycursor.execute(cmd)\n",
    "        S=mycursor.fetchall()\n",
    "        A=input(\"Enter the accound no whose details to be changed\")\n",
    "        for i in S:\n",
    "            i=list(i)\n",
    "            if i[0]==A:\n",
    "                ch=input(\"Change Name(Y/N)\")\n",
    "                if ch=='y' or ch=='Y':\n",
    "                    i[1]=input(\"Enter Name\")\n",
    "                    i[1]=i[1].upper()\n",
    "                ch=input(\"Change Mobile(Y/N)\")\n",
    "                if ch=='y' or ch=='Y':\n",
    "                    i[2]=input(\"Enter Mobile\")\n",
    "                ch=input(\"Change Email(Y/N)\")\n",
    "                if ch=='y' or ch=='Y':\n",
    "                    i[3]=input(\"Enter email\")\n",
    "                    i[3]=i[3].upper()\n",
    "                ch=input(\"Change Address(Y/N)\")\n",
    "                if ch=='y' or ch=='Y':\n",
    "                    i[4]=input(\"Enter Address\")\n",
    "                    i[4]=i[4].upper()\n",
    "                ch=input(\"Change city(Y/N)\")\n",
    "                if ch=='y' or ch=='Y':\n",
    "                    i[5]=input(\"Enter City\")\n",
    "                    i[5]=i[5].upper()\n",
    "                ch=input(\"Change Country(Y/N)\")\n",
    "                if ch=='y' or ch=='Y':\n",
    "                    i[6]=input(\"Enter country\")\n",
    "                    i[6]=i[6].upper()\n",
    "                ch=input(\"Change Balance(Y/N)\")\n",
    "                if ch=='y' or ch=='Y':\n",
    "                    i[7]=float(input(\"Enter Balance\"))\n",
    "                cmd=\"UPDATE BANK SET NAME=%s,MOBILE=%s,EMAIL=%s,ADDRESS=%s,CITY=%s,COUNTRY=%s,BALANCE=%s WHERE ACCNO=%s\" \n",
    "                val=(i[1],i[2],i[3],i[4],i[5],i[6],i[7],i[0])\n",
    "                mycursor.execute(cmd,val)\n",
    "                mydb.commit()\n",
    "                print(\"Account Updated\")\n",
    "                break\n",
    "        else:\n",
    "            print(\"Record not found\")\n",
    "    except mysql.connector.Error as err:\n",
    "        print(\"No such table\")"
   ]
  },
  {
   "cell_type": "code",
   "execution_count": 16,
   "id": "35a72489",
   "metadata": {},
   "outputs": [],
   "source": [
    "def Delete(): #Function to delete the details of a customer\n",
    "    try:\n",
    "        cmd=\"select * from BANK\"\n",
    "        mycursor.execute(cmd)\n",
    "        S=mycursor.fetchall()\n",
    "        A=input(\"Enter the accound no whose details to be changed\")\n",
    "        for i in S:\n",
    "            i=list(i)\n",
    "            if i[0]==A:\n",
    "                cmd=\"delete from bank where accno=%s\"\n",
    "                val=(i[0],)\n",
    "                mycursor.execute(cmd,val)\n",
    "                mydb.commit()\n",
    "                print(\"Account Deleted\")\n",
    "                break\n",
    "        else:\n",
    "            print(\"Record not found\")\n",
    "    except mysql.connector.Error as err:\n",
    "        print(\"No such Table\")"
   ]
  },
  {
   "cell_type": "code",
   "execution_count": 17,
   "id": "d2be59ec",
   "metadata": {},
   "outputs": [],
   "source": [
    "def Debit(): #Function to Withdraw the amount by assuring the min balance of Rs 5000\n",
    "    try:\n",
    "        cmd=\"select * from BANK\"\n",
    "        mycursor.execute(cmd)\n",
    "        S=mycursor.fetchall()\n",
    "        print(\"Please Note that the money can only be debited if min balance of Rs 5000 exists\")\n",
    "        acc=input(\"Enter the account no from which the money is to be debited\")\n",
    "        for i in S:\n",
    "            i=list(i)\n",
    "            if i[0]==acc:\n",
    "                Amt=float(input(\"Enter the amount to be withdrawn\"))\n",
    "                if i[7]-Amt>=5000:\n",
    "                    i[7]-=Amt\n",
    "                    cmd=\"UPDATE BANK SET BALANCE=%s WHERE ACCNO=%s\"\n",
    "                    val=(i[7],i[0])\n",
    "                    mycursor.execute(cmd,val)\n",
    "                    mydb.commit()\n",
    "                    print(\"Amount Debited\")\n",
    "                    break\n",
    "                else:\n",
    "                    print(\"There must be min balance of Rs 5000\")\n",
    "                    break\n",
    "        else:\n",
    "            print(\"Record Not found\")\n",
    "    except mysql.connector.Error as err:\n",
    "        print(\"Table Doesn't exist\")"
   ]
  },
  {
   "cell_type": "code",
   "execution_count": 18,
   "id": "ebd13e8e",
   "metadata": {},
   "outputs": [],
   "source": [
    "def Credit(): #Function to Withdraw the amount by assuring the min balance of Rs 5000\n",
    "    try:\n",
    "        cmd=\"select * from BANK\"\n",
    "        mycursor.execute(cmd)\n",
    "        S=mycursor.fetchall()\n",
    "        acc=input(\"Enter the account no from which the money is to be debited\")\n",
    "        for i in S:\n",
    "            i=list(i)\n",
    "            if i[0]==acc:\n",
    "                Amt=float(input(\"Enter the amount to be credited\"))\n",
    "                i[7]+=Amt\n",
    "            cmd=\"UPDATE BANK SET BALANCE=%s WHERE ACCNO=%s\"\n",
    "            val=(i[7],i[0])\n",
    "            mycursor.execute(cmd,val)\n",
    "            mydb.commit()\n",
    "            print(\"Amount Credited\")\n",
    "            break\n",
    "        else:\n",
    "            print(\"Record Not found\")\n",
    "    except mysql.connector.Error as err:\n",
    "        print(\"Table Doesn't exist\")"
   ]
  },
  {
   "cell_type": "code",
   "execution_count": null,
   "id": "08bc4c83",
   "metadata": {},
   "outputs": [
    {
     "name": "stdout",
     "output_type": "stream",
     "text": [
      "********************************************************************************************************************************************\n",
      "                                                                 MAIN MENU                                                                  \n",
      "                                                          1. Insert Record/Records                                                          \n",
      "                                                  2. Display Records as per Account Number                                                  \n",
      "                                                       a. Sorted as per Account Number                                                      \n",
      "                                                       b. Sorted as per Customer Name                                                       \n",
      "                                                      c. Sorted as per Customer Balance                                                     \n",
      "                                             3. Search Record Details as per the accountnumber                                              \n",
      "                                                              4. Update Record                                                              \n",
      "                                                              5. Delete Record                                                              \n",
      "                                              6. Transactions Debit/Withdraw from the account                                               \n",
      "                                                     a. Debit/Withdraw from the account                                                     \n",
      "                                                         b. Credit into the account                                                         \n",
      "                                                                  7. Exit                                                                   \n",
      "********************************************************************************************************************************************\n"
     ]
    }
   ],
   "source": [
    "while True:\n",
    "    Menu()\n",
    "    ch = input(\"Enter your choice: \")\n",
    "    if ch == \"1\":\n",
    "        Create()\n",
    "    elif ch == \"2\":\n",
    "        while True:\n",
    "            MenuSort()\n",
    "            ch1 = input(\"Enter choice a/b/c/d: \").lower()\n",
    "            if ch1 == 'a':\n",
    "                DispSortAcc()\n",
    "            elif ch1 == 'b':\n",
    "                DispSortName()\n",
    "            elif ch1 == 'c':\n",
    "                DispSortBal()\n",
    "            elif ch1 == 'd':\n",
    "                print(\"Back to the main menu\")\n",
    "                break\n",
    "            else:\n",
    "                print(\"Invalid choice. Please enter a, b, c, or d.\")\n",
    "    elif ch == \"3\":\n",
    "        DispSearchAcc()\n",
    "    elif ch == \"4\":\n",
    "        Update()\n",
    "    elif ch == \"5\":\n",
    "        Delete()\n",
    "    elif ch == \"6\":\n",
    "        while True:\n",
    "            MenuTransaction()\n",
    "            ch1 = input(\"Enter choice a/b/c: \").lower()\n",
    "            if ch1 == 'a':\n",
    "                Debit()\n",
    "            elif ch1 == 'b':\n",
    "                Credit()\n",
    "            elif ch1 == 'c':\n",
    "                print(\"Back to the main menu\")\n",
    "                break\n",
    "            else:\n",
    "                print(\"Invalid choice. Please enter a, b, or c.\")\n",
    "    elif ch == \"7\":\n",
    "        print(\"Exiting...\")\n",
    "        break\n",
    "    else:\n",
    "        print(\"Wrong choice entered. Please enter a number between 1 and 7.\")\n"
   ]
  },
  {
   "cell_type": "code",
   "execution_count": null,
   "id": "7d3d531b",
   "metadata": {},
   "outputs": [],
   "source": []
  },
  {
   "cell_type": "code",
   "execution_count": null,
   "id": "540175ec",
   "metadata": {},
   "outputs": [],
   "source": []
  }
 ],
 "metadata": {
  "kernelspec": {
   "display_name": "Python 3 (ipykernel)",
   "language": "python",
   "name": "python3"
  },
  "language_info": {
   "codemirror_mode": {
    "name": "ipython",
    "version": 3
   },
   "file_extension": ".py",
   "mimetype": "text/x-python",
   "name": "python",
   "nbconvert_exporter": "python",
   "pygments_lexer": "ipython3",
   "version": "3.10.6"
  }
 },
 "nbformat": 4,
 "nbformat_minor": 5
}
